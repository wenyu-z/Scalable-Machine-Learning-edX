








<!DOCTYPE html>
<html lang="en">

<head>
  <meta charset="utf-8">
  <title></title>
  <meta name="viewport" content="width=device-width, initial-scale=1.0">
  <meta name="description" content="">
  <meta name="author" content="">
  
  <meta name="robots" content="noindex,nofollow">
  

  <!--NEW RELIC Start Perf Measurement-->
  
  <!--NREND-->

  <!-- Le styles -->
  <link href="/static/build/styles.css" rel="stylesheet">

  <!-- Le HTML5 shim, for IE6-8 support of HTML5 elements -->
  <!--[if lt IE 9]>
    <script src="http://html5shim.googlecode.com/svn/trunk/html5.js"></script>
  <![endif]-->

  <!-- Le fav and touch icons -->
  <link rel="shortcut icon" href="/static/ico/ipynb_icon_16x16.png">
  <link rel="apple-touch-icon-precomposed" sizes="144x144" 
        href="/static/ico/apple-touch-icon-144-precomposed.png">
  <link rel="apple-touch-icon-precomposed" sizes="114x114" 
        href="/static/ico/apple-touch-icon-114-precomposed.png">
  <link rel="apple-touch-icon-precomposed" sizes="72x72" 
        href="/static/ico/apple-touch-icon-72-precomposed.png">
  <link rel="apple-touch-icon-precomposed" 
        href="/static/ico/apple-touch-icon-57-precomposed.png">
  
  

  

  
  <meta name="twitter:card" content="summary">
  <meta name="twitter:title" content="Notebook on nbviewer">
  <meta name="twitter:description" content="Check out this Jupyter notebook!">

  
  <meta name="twitter:domain" content="nbviewer.ipython.org">
  <meta name="twitter:image:src" content="http://ipython.org/ipython-doc/dev/_images/ipynb_icon_128x128.png">

  
    <link href="/static/build/notebook.css" rel="stylesheet">
  

  

  <script src="https://cdn.mathjax.org/mathjax/latest/MathJax.js?config=TeX-AMS_HTML" type="text/javascript">
  </script>
  <script type="text/javascript">
    init_mathjax = function() {
      if (window.MathJax) {
        // MathJax loaded
        MathJax.Hub.Config({
          tex2jax: {
            inlineMath: [ ['$','$'], ["\\(","\\)"] ],
            displayMath: [ ['$$','$$'], ["\\[","\\]"] ],
            processEscapes: true,
            processEnvironments: true
          },
          displayAlign: 'center',
          "HTML-CSS": {
            styles: {'.MathJax_Display': {"margin": 0}},
            linebreaks: { automatic: true }
          }
        });
        MathJax.Hub.Queue(["Typeset", MathJax.Hub]);
      }
    }
    init_mathjax();
  </script>

</head>

<body data-spy="scroll" data-target=".subnav" data-offset="50">

  <!-- These are loaded at the top of the body so they are available to 
       notebook cells when they are loaded below. -->
  <script src="/static/components/jquery/dist/jquery.min.js"></script>
  <script src="/static/components/requirejs/require.js"></script>
  <script src="/static/components/moment/min/moment.min.js"></script>

<!-- Navbar
================================================== -->
  <nav id="menubar" class="navbar navbar-default navbar-fixed-top">
    <div class="container">
      <div class="navbar-header">
        <button type="button" class="navbar-toggle collapsed" data-toggle="collapse" data-target=".navbar-collapse">
          <span class="sr-only">Toggle navigation</span>
          <i class="fa fa-bars"></i>
        </button>
        <a class="navbar-brand" href="/">nbviewer</a>
      </div>

      <div class="collapse navbar-collapse">
        <ul class="nav navbar-nav">
          <li>
    <a href="/faq" title="FAQ" >
      
        <span>FAQ</span>
      
    </a>
  </li>
          <li class="">
            <a href="http://ipython.org">IPython</a>
          </li>
          <li class="">
            <a href="http://jupyter.org">Jupyter</a>
          </li>
        </ul>
        
        <ul class="nav navbar-nav navbar-right">
          
  
    
  

  
  
  
    <li>
    <a href="https://github.com/spark-mooc/mooc-setup/blob/master/lab0_student.ipynb" title="View on GitHub" >
      <span class="fa fa-github fa-2x menu-icon"></span>
      <span class="menu-text">View on GitHub</span>
    </a>
  </li>
  

  <li>
    <a href="https://raw.githubusercontent.com/spark-mooc/mooc-setup/master/lab0_student.ipynb" title="Download Notebook" download>
      <span class="fa fa-download fa-2x menu-icon"></span>
      <span class="menu-text">Download Notebook</span>
    </a>
  </li>

        </ul>
      </div><!-- /.navbar-collapse -->
      
      
    </div>
  </nav>

  <div class="container">
    
  
  <ol class="breadcrumb">
    
      <li>
        <a href="/github/spark-mooc/mooc-setup/tree/master">mooc-setup</a>
      </li>
    
      <li>
        <a href="/github/spark-mooc/mooc-setup/tree/master/lab0_student.ipynb">lab0_student.ipynb</a>
      </li>
    
  </ol>
  
  <div id="notebook">
    <div id="notebook-container">
      
<div class="cell border-box-sizing text_cell rendered">
<div class="prompt input_prompt">
</div>
<div class="inner_cell">
<div class="text_cell_render border-box-sizing rendered_html">
<h1><img src="http://spark-mooc.github.io/web-assets/images/ta_Spark-logo-small.png" alt="Spark Logo"> + <img src="http://spark-mooc.github.io/web-assets/images/python-logo-master-v3-TM-flattened_small.png" alt="Python Logo"></h1>
<h1 id="First-Notebook:-Virtual-machine-test-and-assignment-submission"><strong>First Notebook: Virtual machine test and assignment submission</strong><a class="anchor-link" href="#First-Notebook:-Virtual-machine-test-and-assignment-submission">&#182;</a></h1><h4 id="This-notebook-will-test-that-the-virtual-machine-(VM)-is-functioning-properly-and-will-show-you-how-to-submit-an-assignment-to-the-autograder.--To-move-through-the-notebook-just-run-each-of-the-cells.--You-will-not-need-to-solve-any-problems-to-complete-this-lab.--You-can-run-a-cell-by-pressing-&quot;shift-enter&quot;,-which-will-compute-the-current-cell-and-advance-to-the-next-cell,-or-by-clicking-in-a-cell-and-pressing-&quot;control-enter&quot;,-which-will-compute-the-current-cell-and-remain-in-that-cell.--At-the-end-of-the-notebook-you-will-export-/-download-the-notebook-and-submit-it-to-the-autograder.">This notebook will test that the virtual machine (VM) is functioning properly and will show you how to submit an assignment to the autograder.  To move through the notebook just run each of the cells.  You will not need to solve any problems to complete this lab.  You can run a cell by pressing "shift-enter", which will compute the current cell and advance to the next cell, or by clicking in a cell and pressing "control-enter", which will compute the current cell and remain in that cell.  At the end of the notebook you will export / download the notebook and submit it to the autograder.<a class="anchor-link" href="#This-notebook-will-test-that-the-virtual-machine-(VM)-is-functioning-properly-and-will-show-you-how-to-submit-an-assignment-to-the-autograder.--To-move-through-the-notebook-just-run-each-of-the-cells.--You-will-not-need-to-solve-any-problems-to-complete-this-lab.--You-can-run-a-cell-by-pressing-&quot;shift-enter&quot;,-which-will-compute-the-current-cell-and-advance-to-the-next-cell,-or-by-clicking-in-a-cell-and-pressing-&quot;control-enter&quot;,-which-will-compute-the-current-cell-and-remain-in-that-cell.--At-the-end-of-the-notebook-you-will-export-/-download-the-notebook-and-submit-it-to-the-autograder.">&#182;</a></h4><h4 id="-This-notebook-covers:-"><strong> This notebook covers: </strong><a class="anchor-link" href="#-This-notebook-covers:-">&#182;</a></h4><h4 id="Part-1:-Test-Spark-functionality"><em>Part 1:</em> Test Spark functionality<a class="anchor-link" href="#Part-1:-Test-Spark-functionality">&#182;</a></h4><h4 id="Part-2:-Check-class-testing-library"><em>Part 2:</em> Check class testing library<a class="anchor-link" href="#Part-2:-Check-class-testing-library">&#182;</a></h4><h4 id="Part-3:-Check-plotting"><em>Part 3:</em> Check plotting<a class="anchor-link" href="#Part-3:-Check-plotting">&#182;</a></h4><h4 id="Part-4:-Check-MathJax-formulas"><em>Part 4:</em> Check MathJax formulas<a class="anchor-link" href="#Part-4:-Check-MathJax-formulas">&#182;</a></h4><h4 id="Part-5:-Export-/-download-and-submit"><em>Part 5:</em> Export / download and submit<a class="anchor-link" href="#Part-5:-Export-/-download-and-submit">&#182;</a></h4>
</div>
</div>
</div>
<div class="cell border-box-sizing text_cell rendered">
<div class="prompt input_prompt">
</div>
<div class="inner_cell">
<div class="text_cell_render border-box-sizing rendered_html">
<h3 id="-Part-1:-Test-Spark-functionality-"><strong> Part 1: Test Spark functionality </strong><a class="anchor-link" href="#-Part-1:-Test-Spark-functionality-">&#182;</a></h3>
</div>
</div>
</div>
<div class="cell border-box-sizing text_cell rendered">
<div class="prompt input_prompt">
</div>
<div class="inner_cell">
<div class="text_cell_render border-box-sizing rendered_html">
<h4 id="-(1a)-Parallelize,-filter,-and-reduce-"><strong> (1a) Parallelize, filter, and reduce </strong><a class="anchor-link" href="#-(1a)-Parallelize,-filter,-and-reduce-">&#182;</a></h4>
</div>
</div>
</div>
<div class="cell border-box-sizing code_cell rendered">
<div class="input">
<div class="prompt input_prompt">In&nbsp;[&nbsp;]:</div>
<div class="inner_cell">
    <div class="input_area">
<div class=" highlight hl-ipython3"><pre><span class="c"># Check that Spark is working</span>
<span class="n">largeRange</span> <span class="o">=</span> <span class="n">sc</span><span class="o">.</span><span class="n">parallelize</span><span class="p">(</span><span class="n">xrange</span><span class="p">(</span><span class="mi">100000</span><span class="p">))</span>
<span class="n">reduceTest</span> <span class="o">=</span> <span class="n">largeRange</span><span class="o">.</span><span class="n">reduce</span><span class="p">(</span><span class="k">lambda</span> <span class="n">a</span><span class="p">,</span> <span class="n">b</span><span class="p">:</span> <span class="n">a</span> <span class="o">+</span> <span class="n">b</span><span class="p">)</span>
<span class="n">filterReduceTest</span> <span class="o">=</span> <span class="n">largeRange</span><span class="o">.</span><span class="n">filter</span><span class="p">(</span><span class="k">lambda</span> <span class="n">x</span><span class="p">:</span> <span class="n">x</span> <span class="o">%</span> <span class="mi">7</span> <span class="o">==</span> <span class="mi">0</span><span class="p">)</span><span class="o">.</span><span class="n">sum</span><span class="p">()</span>

<span class="nb">print</span> <span class="n">reduceTest</span>
<span class="nb">print</span> <span class="n">filterReduceTest</span>

<span class="c"># If the Spark jobs don&#39;t work properly these will raise an AssertionError</span>
<span class="k">assert</span> <span class="n">reduceTest</span> <span class="o">==</span> <span class="mi">4999950000</span>
<span class="k">assert</span> <span class="n">filterReduceTest</span> <span class="o">==</span> <span class="mi">714264285</span>
</pre></div>

</div>
</div>
</div>

</div>
<div class="cell border-box-sizing text_cell rendered">
<div class="prompt input_prompt">
</div>
<div class="inner_cell">
<div class="text_cell_render border-box-sizing rendered_html">
<h4 id="-(1b)-Loading-a-text-file-"><strong> (1b) Loading a text file </strong><a class="anchor-link" href="#-(1b)-Loading-a-text-file-">&#182;</a></h4>
</div>
</div>
</div>
<div class="cell border-box-sizing code_cell rendered">
<div class="input">
<div class="prompt input_prompt">In&nbsp;[&nbsp;]:</div>
<div class="inner_cell">
    <div class="input_area">
<div class=" highlight hl-ipython3"><pre><span class="c"># Check loading data with sc.textFile</span>
<span class="kn">import</span> <span class="nn">os.path</span>
<span class="n">baseDir</span> <span class="o">=</span> <span class="n">os</span><span class="o">.</span><span class="n">path</span><span class="o">.</span><span class="n">join</span><span class="p">(</span><span class="s">&#39;data&#39;</span><span class="p">)</span>
<span class="n">inputPath</span> <span class="o">=</span> <span class="n">os</span><span class="o">.</span><span class="n">path</span><span class="o">.</span><span class="n">join</span><span class="p">(</span><span class="s">&#39;cs100&#39;</span><span class="p">,</span> <span class="s">&#39;lab1&#39;</span><span class="p">,</span> <span class="s">&#39;shakespeare.txt&#39;</span><span class="p">)</span>
<span class="n">fileName</span> <span class="o">=</span> <span class="n">os</span><span class="o">.</span><span class="n">path</span><span class="o">.</span><span class="n">join</span><span class="p">(</span><span class="n">baseDir</span><span class="p">,</span> <span class="n">inputPath</span><span class="p">)</span>

<span class="n">rawData</span> <span class="o">=</span> <span class="n">sc</span><span class="o">.</span><span class="n">textFile</span><span class="p">(</span><span class="n">fileName</span><span class="p">)</span>
<span class="n">shakespeareCount</span> <span class="o">=</span> <span class="n">rawData</span><span class="o">.</span><span class="n">count</span><span class="p">()</span>

<span class="nb">print</span> <span class="n">shakespeareCount</span>

<span class="c"># If the text file didn&#39;t load properly an AssertionError will be raised</span>
<span class="k">assert</span> <span class="n">shakespeareCount</span> <span class="o">==</span> <span class="mi">122395</span>
</pre></div>

</div>
</div>
</div>

</div>
<div class="cell border-box-sizing text_cell rendered">
<div class="prompt input_prompt">
</div>
<div class="inner_cell">
<div class="text_cell_render border-box-sizing rendered_html">
<h3 id="-Part-2:-Check-class-testing-library-"><strong> Part 2: Check class testing library </strong><a class="anchor-link" href="#-Part-2:-Check-class-testing-library-">&#182;</a></h3>
</div>
</div>
</div>
<div class="cell border-box-sizing text_cell rendered">
<div class="prompt input_prompt">
</div>
<div class="inner_cell">
<div class="text_cell_render border-box-sizing rendered_html">
<h4 id="-(2a)-Compare-with-hash-"><strong> (2a) Compare with hash </strong><a class="anchor-link" href="#-(2a)-Compare-with-hash-">&#182;</a></h4>
</div>
</div>
</div>
<div class="cell border-box-sizing code_cell rendered">
<div class="input">
<div class="prompt input_prompt">In&nbsp;[&nbsp;]:</div>
<div class="inner_cell">
    <div class="input_area">
<div class=" highlight hl-ipython3"><pre><span class="c"># TEST Compare with hash (2a)</span>
<span class="c"># Check our testing library/package</span>
<span class="c"># This should print &#39;1 test passed.&#39; on two lines</span>
<span class="kn">from</span> <span class="nn">test_helper</span> <span class="k">import</span> <span class="n">Test</span>

<span class="n">twelve</span> <span class="o">=</span> <span class="mi">12</span>
<span class="n">Test</span><span class="o">.</span><span class="n">assertEquals</span><span class="p">(</span><span class="n">twelve</span><span class="p">,</span> <span class="mi">12</span><span class="p">,</span> <span class="s">&#39;twelve should equal 12&#39;</span><span class="p">)</span>
<span class="n">Test</span><span class="o">.</span><span class="n">assertEqualsHashed</span><span class="p">(</span><span class="n">twelve</span><span class="p">,</span> <span class="s">&#39;7b52009b64fd0a2a49e6d8a939753077792b0554&#39;</span><span class="p">,</span>
                        <span class="s">&#39;twelve, once hashed, should equal the hashed value of 12&#39;</span><span class="p">)</span>
</pre></div>

</div>
</div>
</div>

</div>
<div class="cell border-box-sizing text_cell rendered">
<div class="prompt input_prompt">
</div>
<div class="inner_cell">
<div class="text_cell_render border-box-sizing rendered_html">
<h4 id="-(2b)-Compare-lists-"><strong> (2b) Compare lists </strong><a class="anchor-link" href="#-(2b)-Compare-lists-">&#182;</a></h4>
</div>
</div>
</div>
<div class="cell border-box-sizing code_cell rendered">
<div class="input">
<div class="prompt input_prompt">In&nbsp;[&nbsp;]:</div>
<div class="inner_cell">
    <div class="input_area">
<div class=" highlight hl-ipython3"><pre><span class="c"># TEST Compare lists (2b)</span>
<span class="c"># This should print &#39;1 test passed.&#39;</span>
<span class="n">unsortedList</span> <span class="o">=</span> <span class="p">[(</span><span class="mi">5</span><span class="p">,</span> <span class="s">&#39;b&#39;</span><span class="p">),</span> <span class="p">(</span><span class="mi">5</span><span class="p">,</span> <span class="s">&#39;a&#39;</span><span class="p">),</span> <span class="p">(</span><span class="mi">4</span><span class="p">,</span> <span class="s">&#39;c&#39;</span><span class="p">),</span> <span class="p">(</span><span class="mi">3</span><span class="p">,</span> <span class="s">&#39;a&#39;</span><span class="p">)]</span>
<span class="n">Test</span><span class="o">.</span><span class="n">assertEquals</span><span class="p">(</span><span class="nb">sorted</span><span class="p">(</span><span class="n">unsortedList</span><span class="p">),</span> <span class="p">[(</span><span class="mi">3</span><span class="p">,</span> <span class="s">&#39;a&#39;</span><span class="p">),</span> <span class="p">(</span><span class="mi">4</span><span class="p">,</span> <span class="s">&#39;c&#39;</span><span class="p">),</span> <span class="p">(</span><span class="mi">5</span><span class="p">,</span> <span class="s">&#39;a&#39;</span><span class="p">),</span> <span class="p">(</span><span class="mi">5</span><span class="p">,</span> <span class="s">&#39;b&#39;</span><span class="p">)],</span>
                  <span class="s">&#39;unsortedList does not sort properly&#39;</span><span class="p">)</span>
</pre></div>

</div>
</div>
</div>

</div>
<div class="cell border-box-sizing text_cell rendered">
<div class="prompt input_prompt">
</div>
<div class="inner_cell">
<div class="text_cell_render border-box-sizing rendered_html">
<h3 id="-Part-3:-Check-plotting-"><strong> Part 3: Check plotting </strong><a class="anchor-link" href="#-Part-3:-Check-plotting-">&#182;</a></h3>
</div>
</div>
</div>
<div class="cell border-box-sizing text_cell rendered">
<div class="prompt input_prompt">
</div>
<div class="inner_cell">
<div class="text_cell_render border-box-sizing rendered_html">
<h4 id="-(3a)-Our-first-plot-"><strong> (3a) Our first plot </strong><a class="anchor-link" href="#-(3a)-Our-first-plot-">&#182;</a></h4><h4 id="After-executing-the-code-cell-below,-you-should-see-a-plot-with-50-blue-circles.--The-circles-should-start-at-the-bottom-left-and-end-at-the-top-right.">After executing the code cell below, you should see a plot with 50 blue circles.  The circles should start at the bottom left and end at the top right.<a class="anchor-link" href="#After-executing-the-code-cell-below,-you-should-see-a-plot-with-50-blue-circles.--The-circles-should-start-at-the-bottom-left-and-end-at-the-top-right.">&#182;</a></h4>
</div>
</div>
</div>
<div class="cell border-box-sizing code_cell rendered">
<div class="input">
<div class="prompt input_prompt">In&nbsp;[&nbsp;]:</div>
<div class="inner_cell">
    <div class="input_area">
<div class=" highlight hl-ipython3"><pre><span class="c"># Check matplotlib plotting</span>
<span class="kn">import</span> <span class="nn">matplotlib.pyplot</span> <span class="k">as</span> <span class="nn">plt</span>
<span class="kn">import</span> <span class="nn">matplotlib.cm</span> <span class="k">as</span> <span class="nn">cm</span>
<span class="kn">from</span> <span class="nn">math</span> <span class="k">import</span> <span class="n">log</span>

<span class="c"># function for generating plot layout</span>
<span class="k">def</span> <span class="nf">preparePlot</span><span class="p">(</span><span class="n">xticks</span><span class="p">,</span> <span class="n">yticks</span><span class="p">,</span> <span class="n">figsize</span><span class="o">=</span><span class="p">(</span><span class="mf">10.5</span><span class="p">,</span> <span class="mi">6</span><span class="p">),</span> <span class="n">hideLabels</span><span class="o">=</span><span class="k">False</span><span class="p">,</span> <span class="n">gridColor</span><span class="o">=</span><span class="s">&#39;#999999&#39;</span><span class="p">,</span> <span class="n">gridWidth</span><span class="o">=</span><span class="mf">1.0</span><span class="p">):</span>
    <span class="n">plt</span><span class="o">.</span><span class="n">close</span><span class="p">()</span>
    <span class="n">fig</span><span class="p">,</span> <span class="n">ax</span> <span class="o">=</span> <span class="n">plt</span><span class="o">.</span><span class="n">subplots</span><span class="p">(</span><span class="n">figsize</span><span class="o">=</span><span class="n">figsize</span><span class="p">,</span> <span class="n">facecolor</span><span class="o">=</span><span class="s">&#39;white&#39;</span><span class="p">,</span> <span class="n">edgecolor</span><span class="o">=</span><span class="s">&#39;white&#39;</span><span class="p">)</span>
    <span class="n">ax</span><span class="o">.</span><span class="n">axes</span><span class="o">.</span><span class="n">tick_params</span><span class="p">(</span><span class="n">labelcolor</span><span class="o">=</span><span class="s">&#39;#999999&#39;</span><span class="p">,</span> <span class="n">labelsize</span><span class="o">=</span><span class="s">&#39;10&#39;</span><span class="p">)</span>
    <span class="k">for</span> <span class="n">axis</span><span class="p">,</span> <span class="n">ticks</span> <span class="ow">in</span> <span class="p">[(</span><span class="n">ax</span><span class="o">.</span><span class="n">get_xaxis</span><span class="p">(),</span> <span class="n">xticks</span><span class="p">),</span> <span class="p">(</span><span class="n">ax</span><span class="o">.</span><span class="n">get_yaxis</span><span class="p">(),</span> <span class="n">yticks</span><span class="p">)]:</span>
        <span class="n">axis</span><span class="o">.</span><span class="n">set_ticks_position</span><span class="p">(</span><span class="s">&#39;none&#39;</span><span class="p">)</span>
        <span class="n">axis</span><span class="o">.</span><span class="n">set_ticks</span><span class="p">(</span><span class="n">ticks</span><span class="p">)</span>
        <span class="n">axis</span><span class="o">.</span><span class="n">label</span><span class="o">.</span><span class="n">set_color</span><span class="p">(</span><span class="s">&#39;#999999&#39;</span><span class="p">)</span>
        <span class="k">if</span> <span class="n">hideLabels</span><span class="p">:</span> <span class="n">axis</span><span class="o">.</span><span class="n">set_ticklabels</span><span class="p">([])</span>
    <span class="n">plt</span><span class="o">.</span><span class="n">grid</span><span class="p">(</span><span class="n">color</span><span class="o">=</span><span class="n">gridColor</span><span class="p">,</span> <span class="n">linewidth</span><span class="o">=</span><span class="n">gridWidth</span><span class="p">,</span> <span class="n">linestyle</span><span class="o">=</span><span class="s">&#39;-&#39;</span><span class="p">)</span>
    <span class="nb">map</span><span class="p">(</span><span class="k">lambda</span> <span class="n">position</span><span class="p">:</span> <span class="n">ax</span><span class="o">.</span><span class="n">spines</span><span class="p">[</span><span class="n">position</span><span class="p">]</span><span class="o">.</span><span class="n">set_visible</span><span class="p">(</span><span class="k">False</span><span class="p">),</span> <span class="p">[</span><span class="s">&#39;bottom&#39;</span><span class="p">,</span> <span class="s">&#39;top&#39;</span><span class="p">,</span> <span class="s">&#39;left&#39;</span><span class="p">,</span> <span class="s">&#39;right&#39;</span><span class="p">])</span>
    <span class="k">return</span> <span class="n">fig</span><span class="p">,</span> <span class="n">ax</span>

<span class="c"># generate layout and plot data</span>
<span class="n">x</span> <span class="o">=</span> <span class="nb">range</span><span class="p">(</span><span class="mi">1</span><span class="p">,</span> <span class="mi">50</span><span class="p">)</span>
<span class="n">y</span> <span class="o">=</span> <span class="p">[</span><span class="n">log</span><span class="p">(</span><span class="n">x1</span> <span class="o">**</span> <span class="mi">2</span><span class="p">)</span> <span class="k">for</span> <span class="n">x1</span> <span class="ow">in</span> <span class="n">x</span><span class="p">]</span>
<span class="n">fig</span><span class="p">,</span> <span class="n">ax</span> <span class="o">=</span> <span class="n">preparePlot</span><span class="p">(</span><span class="nb">range</span><span class="p">(</span><span class="mi">5</span><span class="p">,</span> <span class="mi">60</span><span class="p">,</span> <span class="mi">10</span><span class="p">),</span> <span class="nb">range</span><span class="p">(</span><span class="mi">0</span><span class="p">,</span> <span class="mi">12</span><span class="p">,</span> <span class="mi">1</span><span class="p">))</span>
<span class="n">plt</span><span class="o">.</span><span class="n">scatter</span><span class="p">(</span><span class="n">x</span><span class="p">,</span> <span class="n">y</span><span class="p">,</span> <span class="n">s</span><span class="o">=</span><span class="mi">14</span><span class="o">**</span><span class="mi">2</span><span class="p">,</span> <span class="n">c</span><span class="o">=</span><span class="s">&#39;#d6ebf2&#39;</span><span class="p">,</span> <span class="n">edgecolors</span><span class="o">=</span><span class="s">&#39;#8cbfd0&#39;</span><span class="p">,</span> <span class="n">alpha</span><span class="o">=</span><span class="mf">0.75</span><span class="p">)</span>
<span class="n">ax</span><span class="o">.</span><span class="n">set_xlabel</span><span class="p">(</span><span class="s">r&#39;$range(1, 50)$&#39;</span><span class="p">),</span> <span class="n">ax</span><span class="o">.</span><span class="n">set_ylabel</span><span class="p">(</span><span class="s">r&#39;$\log_e(x^2)$&#39;</span><span class="p">)</span>
<span class="k">pass</span>
</pre></div>

</div>
</div>
</div>

</div>
<div class="cell border-box-sizing text_cell rendered">
<div class="prompt input_prompt">
</div>
<div class="inner_cell">
<div class="text_cell_render border-box-sizing rendered_html">
<h3 id="-Part-4:-Check-MathJax-Formulas-"><strong> Part 4: Check MathJax Formulas </strong><a class="anchor-link" href="#-Part-4:-Check-MathJax-Formulas-">&#182;</a></h3>
</div>
</div>
</div>
<div class="cell border-box-sizing text_cell rendered">
<div class="prompt input_prompt">
</div>
<div class="inner_cell">
<div class="text_cell_render border-box-sizing rendered_html">
<h4 id="-(4a)-Gradient-descent-formula-"><strong> (4a) Gradient descent formula </strong><a class="anchor-link" href="#-(4a)-Gradient-descent-formula-">&#182;</a></h4><h4 id="You-should-see-a-formula-on-the-line-below-this-one:-$$-\scriptsize-\mathbf{w}_{i+1}-=-\mathbf{w}_i---\alpha_i-\sum_j-(\mathbf{w}_i^\top\mathbf{x}_j----y_j)-\mathbf{x}_j-\,.$$">You should see a formula on the line below this one: $$ \scriptsize \mathbf{w}_{i+1} = \mathbf{w}_i - \alpha_i \sum_j (\mathbf{w}_i^\top\mathbf{x}_j  - y_j) \mathbf{x}_j \,.$$<a class="anchor-link" href="#You-should-see-a-formula-on-the-line-below-this-one:-$$-\scriptsize-\mathbf{w}_{i+1}-=-\mathbf{w}_i---\alpha_i-\sum_j-(\mathbf{w}_i^\top\mathbf{x}_j----y_j)-\mathbf{x}_j-\,.$$">&#182;</a></h4><h4 id="This-formula-is-included-inline-with-the-text-and-is-$-\scriptsize-(\mathbf{w}^\top-\mathbf{x}---y)-\mathbf{x}-$.">This formula is included inline with the text and is $ \scriptsize (\mathbf{w}^\top \mathbf{x} - y) \mathbf{x} $.<a class="anchor-link" href="#This-formula-is-included-inline-with-the-text-and-is-$-\scriptsize-(\mathbf{w}^\top-\mathbf{x}---y)-\mathbf{x}-$.">&#182;</a></h4>
</div>
</div>
</div>
<div class="cell border-box-sizing text_cell rendered">
<div class="prompt input_prompt">
</div>
<div class="inner_cell">
<div class="text_cell_render border-box-sizing rendered_html">
<h4 id="-(4b)-Log-loss-formula-"><strong> (4b) Log loss formula </strong><a class="anchor-link" href="#-(4b)-Log-loss-formula-">&#182;</a></h4><h4>This formula shows log loss for single point. Log loss is defined as: $$  \begin{align} \scriptsize \ell_{log}(p, y) = \begin{cases} -\log (p) & \text{if } y = 1 \\\ -\log(1-p) & \text{if } y = 0 \end{cases} \end{align} $$</h4>

</div>
</div>
</div>
<div class="cell border-box-sizing text_cell rendered">
<div class="prompt input_prompt">
</div>
<div class="inner_cell">
<div class="text_cell_render border-box-sizing rendered_html">
<h3 id="-Part-5:-Export-/-download-and-submit-"><strong> Part 5: Export / download and submit </strong><a class="anchor-link" href="#-Part-5:-Export-/-download-and-submit-">&#182;</a></h3>
</div>
</div>
</div>
<div class="cell border-box-sizing text_cell rendered">
<div class="prompt input_prompt">
</div>
<div class="inner_cell">
<div class="text_cell_render border-box-sizing rendered_html">
<h4 id="-(5a)-Time-to-submit-"><strong> (5a) Time to submit </strong><a class="anchor-link" href="#-(5a)-Time-to-submit-">&#182;</a></h4>
</div>
</div>
</div>
<div class="cell border-box-sizing text_cell rendered">
<div class="prompt input_prompt">
</div>
<div class="inner_cell">
<div class="text_cell_render border-box-sizing rendered_html">
<h4 id="You-have-completed-the-lab.--To-submit-the-lab-for-grading-you-will-need-to-download-it-from-your-IPython-Notebook-environment.--You-can-do-this-by-clicking-on-&quot;File&quot;,-then-hovering-your-mouse-over-&quot;Download-as&quot;,-and-then-clicking-on-&quot;Python-(.py)&quot;.--This-will-export-your-IPython-Notebook-as-a-.py-file-to-your-computer.">You have completed the lab.  To submit the lab for grading you will need to download it from your IPython Notebook environment.  You can do this by clicking on "File", then hovering your mouse over "Download as", and then clicking on "Python (.py)".  This will export your IPython Notebook as a .py file to your computer.<a class="anchor-link" href="#You-have-completed-the-lab.--To-submit-the-lab-for-grading-you-will-need-to-download-it-from-your-IPython-Notebook-environment.--You-can-do-this-by-clicking-on-&quot;File&quot;,-then-hovering-your-mouse-over-&quot;Download-as&quot;,-and-then-clicking-on-&quot;Python-(.py)&quot;.--This-will-export-your-IPython-Notebook-as-a-.py-file-to-your-computer.">&#182;</a></h4><h4 id="To-upload-this-file-to-the-course-autograder,-go-to-the-edX-website-and-find-the-page-for-submitting-this-assignment.--Click-&quot;Choose-file&quot;,-then-navigate-to-and-click-on-the-downloaded-.py-file.--Now-click-the-&quot;Open&quot;-button-and-then-the-&quot;Check&quot;-button.--Your-submission-will-be-graded-shortly-and-will-be-available-on-the-page-where-you-submitted.--Note-that-when-submission-volumes-are-high,-it-may-take-as-long-as-an-hour-to-receive-results.">To upload this file to the course autograder, go to the edX website and find the page for submitting this assignment.  Click "Choose file", then navigate to and click on the downloaded .py file.  Now click the "Open" button and then the "Check" button.  Your submission will be graded shortly and will be available on the page where you submitted.  Note that when submission volumes are high, it may take as long as an hour to receive results.<a class="anchor-link" href="#To-upload-this-file-to-the-course-autograder,-go-to-the-edX-website-and-find-the-page-for-submitting-this-assignment.--Click-&quot;Choose-file&quot;,-then-navigate-to-and-click-on-the-downloaded-.py-file.--Now-click-the-&quot;Open&quot;-button-and-then-the-&quot;Check&quot;-button.--Your-submission-will-be-graded-shortly-and-will-be-available-on-the-page-where-you-submitted.--Note-that-when-submission-volumes-are-high,-it-may-take-as-long-as-an-hour-to-receive-results.">&#182;</a></h4>
</div>
</div>
</div>
    </div>
  </div>


    <div class="back-to-top hidden-print text-center">
      <a href="#">Back to top</a>
    </div>

    
      <footer class="footer hidden-print col-md-12">
        <div class="col-md-4">
          <p>
            This web site does not host notebooks, it only renders notebooks
            available on other websites.
          </p>
        </div>

        <div class="col-md-4">
          <p>
            Delivered by <a href="http://www.fastly.com/">Fastly</a>, 
            Rendered by <a href="https://developer.rackspace.com/?nbviewer=awesome">Rackspace</a>
          </p>
          <p>
            nbviewer GitHub <a href="https://github.com/jupyter/nbviewer">repository</a>.
          </p>
        </div>

        <div class="col-md-4">
          
  
            
              <p>
                nbviewer version:
                <a href="https://github.com/jupyter/nbviewer/commit/a68bf94062e491b750c3f39905c28c2ee8a7054c">
                  a68bf94
                </a>
              </p>
            
          
  
  <p class="text-muted">
    IPython version: 3.3.0-dev
    
    (<a href="https://github.com/ipython/ipython/commit/b16c2ca">
      b16c2ca
    </a>)
    
  </p>
  

          
  
  
  <p class="text-muted">
    Rendered
    <span class='date' data-date='Tue, 04 Aug 2015 23:55:45 UTC' title='Tue, 04 Aug 2015 23:55:45 UTC'>(Tue, 04 Aug 2015 23:55:45 UTC)</span>
  </p>
  

        </div>
      </footer>
    

  </div>

  <script src="/static/components/bootstrap/js/bootstrap.min.js"></script>
  <script src="/static/components/headroom.js/dist/headroom.min.js"></script>
  <script src="/static/components/headroom.js/dist/jQuery.headroom.min.js"></script>

  
  
  <script>
    $(function(){ $("#menubar").headroom({
      tolerance: 5,
      offset: 205,
      classes: {
        initial: "animated",
        pinned: "slideInDown",
        unpinned: "slideOutUp"
      }
    })});
  </script>


  <script>
    (function(i,s,o,g,r,a,m){i['GoogleAnalyticsObject']=r;i[r]=i[r]||function(){
      (i[r].q=i[r].q||[]).push(arguments)},i[r].l=1*new Date();a=s.createElement(o),
      m=s.getElementsByTagName(o)[0];a.async=1;a.src=g;m.parentNode.insertBefore(a,m)
    })(window,document,'script','//www.google-analytics.com/analytics.js','ga');
    ga('create', 'UA-38683231-2', 'auto');
    ga('send', 'pageview');
  </script>
  <script>
      var update_date  = function(){
          var str = window.moment($('.date').data('date')).fromNow();
          $('.date').text(str);
      }
      setInterval(update_date , 61*1000);
      $(update_date);
  </script>
  <!--NEW RELIC Stop Perf Measurement-->
  
  <!--NEW RELIC End-->
</body>
</html>